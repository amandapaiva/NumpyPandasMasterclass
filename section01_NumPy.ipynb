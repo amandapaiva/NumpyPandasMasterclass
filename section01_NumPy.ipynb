{
  "cells": [
    {
      "cell_type": "markdown",
      "id": "d0d4a2ef",
      "metadata": {
        "id": "d0d4a2ef"
      },
      "source": [
        "### Package Imports"
      ]
    },
    {
      "cell_type": "code",
      "execution_count": 2,
      "id": "dbd96293",
      "metadata": {
        "id": "dbd96293"
      },
      "outputs": [],
      "source": [
        "import numpy as np"
      ]
    },
    {
      "cell_type": "markdown",
      "id": "3a5e9bd3",
      "metadata": {
        "id": "3a5e9bd3"
      },
      "source": [
        "# Assignment 1: Array Basics\n",
        "\n",
        "Hi there,\n",
        "\n",
        "Can you import Numpy and convert the following list comprehension into an array?\n",
        "\n",
        "Once you've done that report the following about the array:\n",
        "* The number of dimensions\n",
        "* The shape\n",
        "* The number of elements in the array\n",
        "* The type of data contained inside"
      ]
    },
    {
      "cell_type": "code",
      "execution_count": null,
      "id": "6d3f8d99",
      "metadata": {
        "id": "6d3f8d99"
      },
      "outputs": [],
      "source": [
        "my_list = [x * 10 for x in range(1, 11)]"
      ]
    },
    {
      "cell_type": "code",
      "source": [
        "array = np.array(my_list)\n",
        "array"
      ],
      "metadata": {
        "colab": {
          "base_uri": "https://localhost:8080/"
        },
        "id": "WbEhHOuI8Pj6",
        "outputId": "1ba8e554-fe05-4ff4-a59a-6e897831e4bd"
      },
      "id": "WbEhHOuI8Pj6",
      "execution_count": null,
      "outputs": [
        {
          "output_type": "execute_result",
          "data": {
            "text/plain": [
              "array([ 10,  20,  30,  40,  50,  60,  70,  80,  90, 100])"
            ]
          },
          "metadata": {},
          "execution_count": 7
        }
      ]
    },
    {
      "cell_type": "code",
      "execution_count": null,
      "id": "ac0d2c7b",
      "metadata": {
        "colab": {
          "base_uri": "https://localhost:8080/"
        },
        "id": "ac0d2c7b",
        "outputId": "7bfc79b7-2e6b-4453-957d-2fbb90f3df9b"
      },
      "outputs": [
        {
          "output_type": "stream",
          "name": "stdout",
          "text": [
            "ndim: 1\n"
          ]
        }
      ],
      "source": [
        "print(f\"ndim: {array.ndim}\")"
      ]
    },
    {
      "cell_type": "code",
      "execution_count": null,
      "id": "49d55877",
      "metadata": {
        "colab": {
          "base_uri": "https://localhost:8080/"
        },
        "id": "49d55877",
        "outputId": "1161cfc7-e47a-45c2-a09f-ae362cc8e1c1"
      },
      "outputs": [
        {
          "output_type": "stream",
          "name": "stdout",
          "text": [
            "shape: (10,)\n"
          ]
        }
      ],
      "source": [
        "print(f\"shape: {array.shape}\")"
      ]
    },
    {
      "cell_type": "code",
      "execution_count": null,
      "id": "7b50a227",
      "metadata": {
        "colab": {
          "base_uri": "https://localhost:8080/"
        },
        "id": "7b50a227",
        "outputId": "e34c374f-a601-4fc3-f220-4289402c23f7"
      },
      "outputs": [
        {
          "output_type": "stream",
          "name": "stdout",
          "text": [
            "size: 10\n"
          ]
        }
      ],
      "source": [
        "print(f\"size: {array.size}\")"
      ]
    },
    {
      "cell_type": "code",
      "execution_count": null,
      "id": "6c5d9bd1",
      "metadata": {
        "colab": {
          "base_uri": "https://localhost:8080/"
        },
        "id": "6c5d9bd1",
        "outputId": "b35ed3d7-a2d6-45fe-bb1b-878050b766ee"
      },
      "outputs": [
        {
          "output_type": "stream",
          "name": "stdout",
          "text": [
            "dtype: int64\n"
          ]
        }
      ],
      "source": [
        "print(f\"dtype: {array.dtype}\")"
      ]
    },
    {
      "cell_type": "markdown",
      "id": "8ff92bb7",
      "metadata": {
        "id": "8ff92bb7"
      },
      "source": [
        "# Assignment 2: Array Creation\n",
        "\n",
        "Thanks for your help with the first piece - I'm starting to understand some of the key differences between base Python data types and NumPy arrays.\n",
        "\n",
        "Does NumPy have anything like the range() function from base Python?\n",
        "\n",
        "If so:\n",
        "* create the same array from assignment 1 using a NumPy function.\n",
        "* Make it 5 rows and 2 columns.\n",
        "* It's ok if the datatype is float or int."
      ]
    },
    {
      "cell_type": "code",
      "execution_count": null,
      "id": "81839e0f",
      "metadata": {
        "colab": {
          "base_uri": "https://localhost:8080/"
        },
        "id": "81839e0f",
        "outputId": "079baa3c-349a-4476-83b6-33f84d6602a4"
      },
      "outputs": [
        {
          "output_type": "execute_result",
          "data": {
            "text/plain": [
              "array([[ 10,  20],\n",
              "       [ 30,  40],\n",
              "       [ 50,  60],\n",
              "       [ 70,  80],\n",
              "       [ 90, 100]])"
            ]
          },
          "metadata": {},
          "execution_count": 4
        }
      ],
      "source": [
        "np.arange(10, 101, 10).reshape(5,2)"
      ]
    },
    {
      "cell_type": "code",
      "source": [
        "my_array = np.linspace(10, 100, 10).reshape(5,2)\n",
        "my_array"
      ],
      "metadata": {
        "colab": {
          "base_uri": "https://localhost:8080/"
        },
        "id": "tJfttHlqbH7j",
        "outputId": "ad94d897-3fb7-4d36-95e1-dad6797ffbd9"
      },
      "id": "tJfttHlqbH7j",
      "execution_count": null,
      "outputs": [
        {
          "output_type": "execute_result",
          "data": {
            "text/plain": [
              "array([[ 10.,  20.],\n",
              "       [ 30.,  40.],\n",
              "       [ 50.,  60.],\n",
              "       [ 70.,  80.],\n",
              "       [ 90., 100.]])"
            ]
          },
          "metadata": {},
          "execution_count": 3
        }
      ]
    },
    {
      "cell_type": "markdown",
      "id": "e0849aa4",
      "metadata": {
        "id": "e0849aa4"
      },
      "source": [
        "Looking good so far! One of our data scientists asked about random number generation in NumPy.\n",
        "\n",
        "Can you create a 3x3 array of random numbers between 0 and 1? Use a random state of 2022.\n",
        "\n",
        "Store the random array in a variable called `random_array`."
      ]
    },
    {
      "cell_type": "code",
      "execution_count": null,
      "id": "a2e29128",
      "metadata": {
        "colab": {
          "base_uri": "https://localhost:8080/"
        },
        "id": "a2e29128",
        "outputId": "2e7c628f-e477-4dbf-f59b-16aeba39b743"
      },
      "outputs": [
        {
          "output_type": "execute_result",
          "data": {
            "text/plain": [
              "array([[0.24742606, 0.09299006, 0.61176337],\n",
              "       [0.06066207, 0.66103343, 0.75515778],\n",
              "       [0.1108689 , 0.04305584, 0.41441747]])"
            ]
          },
          "metadata": {},
          "execution_count": 5
        }
      ],
      "source": [
        "from numpy.random import default_rng\n",
        "rng = default_rng(2022)\n",
        "random_array = rng.random(9).reshape(3,3)\n",
        "random_array"
      ]
    },
    {
      "cell_type": "markdown",
      "id": "6927e8b0",
      "metadata": {
        "id": "6927e8b0"
      },
      "source": [
        "# Assignment 3: Accessing Array Data\n",
        "\n",
        "\n",
        "Slice and index the `random_array` we created in the previous exercise. Perform the following:\n",
        "\n",
        "* Grab the first two 'rows' of the array\n",
        "* Grab the entire first column\n",
        "* Finally, grab the second selement of the third row.\n",
        "\n",
        "Thanks!\n"
      ]
    },
    {
      "cell_type": "code",
      "execution_count": null,
      "id": "62a4e208",
      "metadata": {
        "id": "62a4e208",
        "colab": {
          "base_uri": "https://localhost:8080/"
        },
        "outputId": "bf22419d-c5de-4cdf-f2a1-d0ca35de000f"
      },
      "outputs": [
        {
          "output_type": "execute_result",
          "data": {
            "text/plain": [
              "array([[0.24742606, 0.09299006, 0.61176337],\n",
              "       [0.06066207, 0.66103343, 0.75515778],\n",
              "       [0.1108689 , 0.04305584, 0.41441747]])"
            ]
          },
          "metadata": {},
          "execution_count": 11
        }
      ],
      "source": [
        "random_array"
      ]
    },
    {
      "cell_type": "code",
      "execution_count": null,
      "id": "8f9e9acf",
      "metadata": {
        "scrolled": true,
        "id": "8f9e9acf",
        "colab": {
          "base_uri": "https://localhost:8080/"
        },
        "outputId": "5b8e4cd7-d55c-459c-a4c3-bf0392be8694"
      },
      "outputs": [
        {
          "output_type": "execute_result",
          "data": {
            "text/plain": [
              "array([[0.24742606, 0.09299006, 0.61176337],\n",
              "       [0.06066207, 0.66103343, 0.75515778]])"
            ]
          },
          "metadata": {},
          "execution_count": 12
        }
      ],
      "source": [
        "# First two rows of the array\n",
        "random_array[:2,]"
      ]
    },
    {
      "cell_type": "code",
      "execution_count": null,
      "id": "87fa83f7",
      "metadata": {
        "id": "87fa83f7",
        "colab": {
          "base_uri": "https://localhost:8080/"
        },
        "outputId": "95794a89-5b38-4f46-c102-c82a130ba1a0"
      },
      "outputs": [
        {
          "output_type": "execute_result",
          "data": {
            "text/plain": [
              "array([0.24742606, 0.06066207, 0.1108689 ])"
            ]
          },
          "metadata": {},
          "execution_count": 20
        }
      ],
      "source": [
        "# The entire first column\n",
        "random_array[:,0]"
      ]
    },
    {
      "cell_type": "code",
      "execution_count": null,
      "id": "fe985696",
      "metadata": {
        "id": "fe985696",
        "colab": {
          "base_uri": "https://localhost:8080/"
        },
        "outputId": "27646e9e-1b03-436d-9c46-deabd2b39e04"
      },
      "outputs": [
        {
          "output_type": "execute_result",
          "data": {
            "text/plain": [
              "0.04305584439252108"
            ]
          },
          "metadata": {},
          "execution_count": 19
        }
      ],
      "source": [
        "# The second selement of the third row\n",
        "random_array[2,1]"
      ]
    },
    {
      "cell_type": "markdown",
      "id": "6e9ae36a",
      "metadata": {
        "id": "6e9ae36a"
      },
      "source": [
        "# Assignment 4: Arithmetic Operations"
      ]
    },
    {
      "cell_type": "markdown",
      "id": "b7283da4",
      "metadata": {
        "id": "b7283da4"
      },
      "source": [
        "The creativity of our marketing team knows no bounds!\n",
        "\n",
        "They've asked us to come up with a simple algorithm to provide a random discount to our list of prices below.\n",
        "\n",
        "Before we do that,\n",
        "\n",
        "* Add a 5 dollar shipping fee to each price. Call this array `total`.\n",
        "\n",
        "Once we have that, we want to use the random_array created in assignment 2 and apply them to the 6 prices.\n",
        "\n",
        "* Grab the first 6 numbers from `random_array`, reshape it to one dimension. Call this `discount_pct`.\n",
        "* Subtract `discount_pct` FROM 1, store this in `pct_owed`.\n",
        "* Multiply `pct_owed` by `total` to get the final amount owed."
      ]
    },
    {
      "cell_type": "code",
      "execution_count": null,
      "id": "f44773da",
      "metadata": {
        "id": "f44773da"
      },
      "outputs": [],
      "source": [
        "prices = np.array([5.99, 6.99, 22.49, 99.99, 4.99, 49.99])"
      ]
    },
    {
      "cell_type": "code",
      "execution_count": null,
      "id": "9171609a",
      "metadata": {
        "id": "9171609a",
        "colab": {
          "base_uri": "https://localhost:8080/"
        },
        "outputId": "ca4deace-8cc8-43e2-f698-fdc6b82cf850"
      },
      "outputs": [
        {
          "output_type": "execute_result",
          "data": {
            "text/plain": [
              "array([ 10.99,  11.99,  27.49, 104.99,   9.99,  54.99])"
            ]
          },
          "metadata": {},
          "execution_count": 4
        }
      ],
      "source": [
        "total = prices + 5\n",
        "total"
      ]
    },
    {
      "cell_type": "code",
      "execution_count": null,
      "id": "a06dbc29",
      "metadata": {
        "id": "a06dbc29",
        "colab": {
          "base_uri": "https://localhost:8080/"
        },
        "outputId": "534fe496-0d6b-4a58-c2ad-5fd88878eea1"
      },
      "outputs": [
        {
          "output_type": "execute_result",
          "data": {
            "text/plain": [
              "array([0.24742606, 0.09299006, 0.61176337, 0.06066207, 0.66103343,\n",
              "       0.75515778])"
            ]
          },
          "metadata": {},
          "execution_count": 22
        }
      ],
      "source": [
        "discount_pct = random_array[:2, ].reshape(6)\n",
        "discount_pct"
      ]
    },
    {
      "cell_type": "code",
      "execution_count": null,
      "id": "da03368e",
      "metadata": {
        "id": "da03368e",
        "colab": {
          "base_uri": "https://localhost:8080/"
        },
        "outputId": "e1cd6d1e-11c1-4154-eb3a-6a6f851281ef"
      },
      "outputs": [
        {
          "output_type": "execute_result",
          "data": {
            "text/plain": [
              "array([0.75257394, 0.90700994, 0.38823663, 0.93933793, 0.33896657,\n",
              "       0.24484222])"
            ]
          },
          "metadata": {},
          "execution_count": 19
        }
      ],
      "source": [
        "pct_owed = 1 - discount_pct\n",
        "pct_owed"
      ]
    },
    {
      "cell_type": "code",
      "source": [
        "(pct_owed * total).round(2)"
      ],
      "metadata": {
        "colab": {
          "base_uri": "https://localhost:8080/"
        },
        "id": "T3HHVyXOfrsE",
        "outputId": "6cb34dcb-b92c-4f73-d297-e24c50d3fb5a"
      },
      "id": "T3HHVyXOfrsE",
      "execution_count": null,
      "outputs": [
        {
          "output_type": "execute_result",
          "data": {
            "text/plain": [
              "array([ 8.27, 10.88, 10.67, 98.62,  3.39, 13.46])"
            ]
          },
          "metadata": {},
          "execution_count": 21
        }
      ]
    },
    {
      "cell_type": "markdown",
      "id": "30400903",
      "metadata": {
        "id": "30400903"
      },
      "source": [
        "# Assignment 5: Filtering Arrays\n",
        "\n",
        "Filter the product array to only include those with prices greater than 25.\n",
        "\n",
        "Modify your logic to include cola, despite it not having a price greater than 25.\n",
        "Store the elements returned in an array called `fancy_feast_special`.\n",
        "\n",
        "Next, create a shipping cost array where the cost is 0 if price is greater than 20, and 5 if not."
      ]
    },
    {
      "cell_type": "code",
      "execution_count": null,
      "id": "c144c432",
      "metadata": {
        "id": "c144c432",
        "colab": {
          "base_uri": "https://localhost:8080/"
        },
        "outputId": "bf11f810-32e6-4b0c-9ae2-ca89f02bdf7f"
      },
      "outputs": [
        {
          "output_type": "execute_result",
          "data": {
            "text/plain": [
              "array(['salad', 'bread', 'mustard', 'rare tomato', 'cola',\n",
              "       'gourmet ice cream'], dtype='<U17')"
            ]
          },
          "metadata": {},
          "execution_count": 23
        }
      ],
      "source": [
        "products = np.array(\n",
        "    [\"salad\", \"bread\", \"mustard\", \"rare tomato\", \"cola\", \"gourmet ice cream\"]\n",
        ")\n",
        "\n",
        "products"
      ]
    },
    {
      "cell_type": "code",
      "execution_count": null,
      "id": "ba1b077b",
      "metadata": {
        "id": "ba1b077b",
        "colab": {
          "base_uri": "https://localhost:8080/"
        },
        "outputId": "02af1982-ebeb-4467-aa82-ffbd7424cf7b"
      },
      "outputs": [
        {
          "output_type": "execute_result",
          "data": {
            "text/plain": [
              "array(['rare tomato', 'gourmet ice cream'], dtype='<U17')"
            ]
          },
          "metadata": {},
          "execution_count": 29
        }
      ],
      "source": [
        "products[prices > 25]"
      ]
    },
    {
      "cell_type": "code",
      "execution_count": null,
      "id": "4002705c",
      "metadata": {
        "id": "4002705c",
        "colab": {
          "base_uri": "https://localhost:8080/"
        },
        "outputId": "efa4d38d-a397-4496-a37e-0f9197748346"
      },
      "outputs": [
        {
          "output_type": "execute_result",
          "data": {
            "text/plain": [
              "array(['rare tomato', 'cola', 'gourmet ice cream'], dtype='<U17')"
            ]
          },
          "metadata": {},
          "execution_count": 30
        }
      ],
      "source": [
        "mask = (prices > 25) | (products == 'cola')\n",
        "fancy_feast_special = products[mask]\n",
        "fancy_feast_special"
      ]
    },
    {
      "cell_type": "code",
      "execution_count": null,
      "id": "4a8368d4",
      "metadata": {
        "id": "4a8368d4",
        "colab": {
          "base_uri": "https://localhost:8080/"
        },
        "outputId": "c304e0ac-d37c-4daa-b41d-66cff4e9c645"
      },
      "outputs": [
        {
          "output_type": "execute_result",
          "data": {
            "text/plain": [
              "array([5, 5, 0, 0, 5, 0])"
            ]
          },
          "metadata": {},
          "execution_count": 31
        }
      ],
      "source": [
        "shipping_cost_array = np.where(prices > 20, 0, 5)\n",
        "shipping_cost_array"
      ]
    },
    {
      "cell_type": "markdown",
      "id": "44ce04ed",
      "metadata": {
        "id": "44ce04ed"
      },
      "source": [
        "# Assignment 6: Aggregating and Sorting Arrays\n",
        "\n",
        "First, grab the top 3 highest priced items in our list.\n",
        "\n",
        "Then, calculated the mean, min, max, and median of the top three prices.\n",
        "\n",
        "Finally, calculate the number of unique price tiers in our `price_tiers` array."
      ]
    },
    {
      "cell_type": "code",
      "execution_count": 5,
      "id": "f97f4598",
      "metadata": {
        "id": "f97f4598",
        "colab": {
          "base_uri": "https://localhost:8080/"
        },
        "outputId": "346a1189-6a5a-4834-dff5-1c456727d33d"
      },
      "outputs": [
        {
          "output_type": "execute_result",
          "data": {
            "text/plain": [
              "array([ 5.99,  6.99, 22.49, 99.99,  4.99, 49.99])"
            ]
          },
          "metadata": {},
          "execution_count": 5
        }
      ],
      "source": [
        "prices = np.array([5.99, 6.99, 22.49, 99.99, 4.99, 49.99])\n",
        "\n",
        "prices"
      ]
    },
    {
      "cell_type": "code",
      "execution_count": 15,
      "id": "c462eeef",
      "metadata": {
        "id": "c462eeef",
        "colab": {
          "base_uri": "https://localhost:8080/"
        },
        "outputId": "22d83db8-83d7-4070-e5f7-2f169781893b"
      },
      "outputs": [
        {
          "output_type": "execute_result",
          "data": {
            "text/plain": [
              "array([ 4.99,  5.99,  6.99, 22.49, 49.99, 99.99])"
            ]
          },
          "metadata": {},
          "execution_count": 15
        }
      ],
      "source": [
        "prices.sort()\n",
        "prices"
      ]
    },
    {
      "cell_type": "code",
      "execution_count": 17,
      "id": "4a0b5694",
      "metadata": {
        "id": "4a0b5694",
        "colab": {
          "base_uri": "https://localhost:8080/"
        },
        "outputId": "0980e159-90db-4cf9-fe02-50aabbba0275"
      },
      "outputs": [
        {
          "output_type": "stream",
          "name": "stdout",
          "text": [
            "Mean: 57.49\n"
          ]
        }
      ],
      "source": [
        "print(f'Mean: {prices[3:].mean().round(2)}')"
      ]
    },
    {
      "cell_type": "code",
      "execution_count": 18,
      "id": "de696f1a",
      "metadata": {
        "id": "de696f1a",
        "colab": {
          "base_uri": "https://localhost:8080/"
        },
        "outputId": "5b421bcc-ab30-4695-da58-de42cd47edb1"
      },
      "outputs": [
        {
          "output_type": "stream",
          "name": "stdout",
          "text": [
            "Min: 22.49\n"
          ]
        }
      ],
      "source": [
        "print(f'Min: {prices[3:].min().round(2)}')"
      ]
    },
    {
      "cell_type": "code",
      "source": [
        "print(f'Max: {prices[3:].max().round(2)}')"
      ],
      "metadata": {
        "colab": {
          "base_uri": "https://localhost:8080/"
        },
        "id": "irqVk0WEMAua",
        "outputId": "41744e9b-6ebc-49b6-f409-dff6a1ca86d6"
      },
      "id": "irqVk0WEMAua",
      "execution_count": 19,
      "outputs": [
        {
          "output_type": "stream",
          "name": "stdout",
          "text": [
            "Max: 99.99\n"
          ]
        }
      ]
    },
    {
      "cell_type": "code",
      "source": [
        "print(f'Median: {np.median(prices[3:]).round(2)}')"
      ],
      "metadata": {
        "colab": {
          "base_uri": "https://localhost:8080/"
        },
        "id": "ZG7TQj20MGxL",
        "outputId": "fd700a12-d9f7-4384-d806-3d8653f052f6"
      },
      "id": "ZG7TQj20MGxL",
      "execution_count": 20,
      "outputs": [
        {
          "output_type": "stream",
          "name": "stdout",
          "text": [
            "Median: 49.99\n"
          ]
        }
      ]
    },
    {
      "cell_type": "code",
      "execution_count": 3,
      "id": "b9087568",
      "metadata": {
        "id": "b9087568"
      },
      "outputs": [],
      "source": [
        "price_tiers = np.array([\"budget\", \"budget\", \"mid-tier\", \"luxury\", \"mid-tier\", \"luxury\"])"
      ]
    },
    {
      "cell_type": "code",
      "execution_count": 4,
      "id": "6b6e2292",
      "metadata": {
        "id": "6b6e2292",
        "colab": {
          "base_uri": "https://localhost:8080/"
        },
        "outputId": "fdae39a0-1e01-4c69-da1f-7cb345edacbc"
      },
      "outputs": [
        {
          "output_type": "execute_result",
          "data": {
            "text/plain": [
              "array(['budget', 'luxury', 'mid-tier'], dtype='<U8')"
            ]
          },
          "metadata": {},
          "execution_count": 4
        }
      ],
      "source": [
        "np.unique(price_tiers)"
      ]
    },
    {
      "cell_type": "markdown",
      "id": "31b66238",
      "metadata": {
        "id": "31b66238"
      },
      "source": [
        "# Assignment 7: Bringing it All Together\n",
        "\n",
        "Ok, final NumPy task - let's read in some data with the help of Pandas.\n",
        "\n",
        "Our data scientist provided the code to read in a csv as a Pandas dataframe, and has converted the two columns of interest to arrays.\n",
        "\n",
        "* Filter `sales_array` down to only sales where the product family was produce.\n",
        "\n",
        "* Then, randomly sample roughly half (random number < .5) of the produce sales and report the mean and median sales. Use a random seed of 2022.\n",
        "\n",
        "* Finally, create a new array that has the values 'above_both', 'above_median', and 'below_both' based on whether the sales were above the median and mean of the sample, just above the median of the sample, or below both the median and mean of the sample."
      ]
    },
    {
      "cell_type": "code",
      "execution_count": null,
      "id": "432041d4",
      "metadata": {
        "id": "432041d4"
      },
      "outputs": [],
      "source": [
        "import pandas as pd\n",
        "import numpy as np\n",
        "\n",
        "retail_df = pd.read_csv(\n",
        "    \"../retail/retail_2016_2017.csv\", skiprows=range(1, 11000), nrows=1000\n",
        ")\n",
        "\n",
        "family_array = np.array(retail_df[\"family\"])\n",
        "sales_array = np.array(retail_df[\"sales\"])"
      ]
    },
    {
      "cell_type": "code",
      "execution_count": null,
      "id": "e0186438",
      "metadata": {
        "id": "e0186438"
      },
      "outputs": [],
      "source": [
        "produce_array = sales_array[family_array == \"PRODUCE\"]"
      ]
    },
    {
      "cell_type": "code",
      "execution_count": null,
      "id": "33c9a16a",
      "metadata": {
        "id": "33c9a16a"
      },
      "outputs": [],
      "source": [
        "rng = np.random.default_rng(2022)\n",
        "\n",
        "random_array = rng.random(30)\n",
        "\n",
        "sampled_array = produce_array[random_array < 0.5]"
      ]
    },
    {
      "cell_type": "code",
      "execution_count": null,
      "id": "2aebf230",
      "metadata": {
        "id": "2aebf230"
      },
      "outputs": [],
      "source": [
        "mean = sampled_array.mean()\n",
        "\n",
        "mean"
      ]
    },
    {
      "cell_type": "code",
      "source": [
        "median = np.median(sampled_array)\n",
        "\n",
        "median"
      ],
      "metadata": {
        "id": "zua8PnFxAgqs"
      },
      "id": "zua8PnFxAgqs",
      "execution_count": null,
      "outputs": []
    },
    {
      "cell_type": "code",
      "source": [
        "np.where(\n",
        "    sampled_array < median,\n",
        "    \"below_both\",\n",
        "    np.where(sampled_array > mean, \"above_both\", \"above_median\"),\n",
        ")"
      ],
      "metadata": {
        "id": "XLyETA_WAi8V"
      },
      "id": "XLyETA_WAi8V",
      "execution_count": null,
      "outputs": []
    },
    {
      "cell_type": "code",
      "source": [
        "sampled_array"
      ],
      "metadata": {
        "id": "gjwUyBAPAn-K"
      },
      "id": "gjwUyBAPAn-K",
      "execution_count": null,
      "outputs": []
    }
  ],
  "metadata": {
    "kernelspec": {
      "display_name": "Python 3 (ipykernel)",
      "language": "python",
      "name": "python3"
    },
    "language_info": {
      "codemirror_mode": {
        "name": "ipython",
        "version": 3
      },
      "file_extension": ".py",
      "mimetype": "text/x-python",
      "name": "python",
      "nbconvert_exporter": "python",
      "pygments_lexer": "ipython3",
      "version": "3.9.7"
    },
    "colab": {
      "provenance": []
    }
  },
  "nbformat": 4,
  "nbformat_minor": 5
}